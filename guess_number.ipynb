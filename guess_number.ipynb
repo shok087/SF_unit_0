{
 "cells": [
  {
   "cell_type": "code",
   "execution_count": 58,
   "metadata": {},
   "outputs": [
    {
     "name": "stdout",
     "output_type": "stream",
     "text": [
      "Ваш алгоритм угадывает число в среднем за 14 попыток\n"
     ]
    },
    {
     "data": {
      "text/plain": [
       "14"
      ]
     },
     "execution_count": 58,
     "metadata": {},
     "output_type": "execute_result"
    }
   ],
   "source": [
    "def game_core_v2(number):\n",
    "        count = 0 # счетчик попыток\n",
    "        predict = np.random.randint(1, 100) # Устанавливаем пределы загадываемого числа от 1 до 100 включая оба ограничения (в соответствии с условиями задачи)\n",
    "        \"\"\"Эта правка уменьшат угадывание числа с 33 до 31, а обнуление счетчика счетчика до 30\"\"\"\n",
    "        while number != predict:\n",
    "            count += 1\n",
    "            if number > predict:\n",
    "                predict += 3\n",
    "            elif number < predict:\n",
    "                predict -= 2 # корректировка условий поиска на +3 и -2 уменьшает количество попыток до 14\n",
    "        return(count) # выход из цикла, если угадали\n",
    "\n",
    "score_game(game_core_v2)"
   ]
  },
  {
   "cell_type": "code",
   "execution_count": null,
   "metadata": {},
   "outputs": [],
   "source": []
  },
  {
   "cell_type": "code",
   "execution_count": null,
   "metadata": {},
   "outputs": [],
   "source": []
  }
 ],
 "metadata": {
  "kernelspec": {
   "display_name": "Python 3",
   "language": "python",
   "name": "python3"
  },
  "language_info": {
   "codemirror_mode": {
    "name": "ipython",
    "version": 3
   },
   "file_extension": ".py",
   "mimetype": "text/x-python",
   "name": "python",
   "nbconvert_exporter": "python",
   "pygments_lexer": "ipython3",
   "version": "3.8.5"
  }
 },
 "nbformat": 4,
 "nbformat_minor": 4
}
